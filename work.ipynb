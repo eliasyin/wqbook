{
 "cells": [
  {
   "cell_type": "code",
   "execution_count": 41,
   "metadata": {},
   "outputs": [],
   "source": [
    "from selenium import webdriver\n",
    "url = 'https://wqbook.wqxuetang.com/'\n",
    "# create a browser object\n",
    "driver = webdriver.Chrome(\"C:\\Program Files (x86)\\Google\\Chrome\\Application\\chromedriver.exe\")\n",
    "driver.get(url)"
   ]
  },
  {
   "cell_type": "code",
   "execution_count": 42,
   "metadata": {},
   "outputs": [
    {
     "name": "stdout",
     "output_type": "stream",
     "text": [
      " 登录 \n"
     ]
    }
   ],
   "source": [
    "# enter login-in page\n",
    "login_page = driver.find_element_by_xpath(\"//a[@data-id='login']\")\n",
    "print(login_page.text)\n",
    "login_page.click()"
   ]
  },
  {
   "cell_type": "code",
   "execution_count": 43,
   "metadata": {
    "collapsed": true
   },
   "outputs": [],
   "source": [
    "#输入账号\n",
    "input_account = driver.find_element_by_id('account')\n",
    "input_account.send_keys('*********')\n",
    "#输入密码\n",
    "input_passwd = driver.find_element_by_id('password')\n",
    "input_passwd.send_keys('********')"
   ]
  },
  {
   "cell_type": "code",
   "execution_count": 44,
   "metadata": {
    "collapsed": true
   },
   "outputs": [],
   "source": [
    "#login\n",
    "login_button = driver.find_element_by_xpath(\"//input[@onclick='return post_login();']\")\n",
    "login_button.click()"
   ]
  },
  {
   "cell_type": "code",
   "execution_count": 50,
   "metadata": {
    "collapsed": true
   },
   "outputs": [],
   "source": [
    "pdf_url = 'https://wqbook.wqxuetang.com/read/pdf/193921'\n",
    "driver.get(pdf_url)\n",
    "html = driver.page_source\n",
    "# print(html)"
   ]
  },
  {
   "cell_type": "code",
   "execution_count": 51,
   "metadata": {},
   "outputs": [
    {
     "name": "stdout",
     "output_type": "stream",
     "text": [
      "640\n"
     ]
    },
    {
     "data": {
      "text/plain": [
       "317"
      ]
     },
     "execution_count": 51,
     "metadata": {},
     "output_type": "execute_result"
    }
   ],
   "source": [
    "cnt = 8\n",
    "raw_file = 'fetch' + str(cnt) + '.txt'\n",
    "url_file = 'url' + str(cnt) + '.txt'\n",
    "import re\n",
    "rawUrlList = []\n",
    "with open(raw_file) as file_object:\n",
    "    for line in file_object:\n",
    "        if re.findall('https://wqbook.wqxuetang.com/page/img/193921?.*', line):\n",
    "            rawUrlList.append(line.split('\"')[1])\n",
    "print(len(rawUrlList))\n",
    "#remove duplication\n",
    "urlList = []\n",
    "for url in rawUrlList:\n",
    "    if url not in urlList:\n",
    "        urlList.append(url)\n",
    "# with open(url_file, \"wt\") as f:\n",
    "#     for url in urlList:\n",
    "#         f.write(url + '\\n')\n",
    "len(urlList)"
   ]
  },
  {
   "cell_type": "code",
   "execution_count": 53,
   "metadata": {
    "collapsed": true
   },
   "outputs": [],
   "source": [
    "import time\n",
    "from random import random\n",
    "import urllib.request as request\n",
    "start_point = 200\n",
    "def jpgDownload(url, fileName, i):\n",
    "    try:\n",
    "        if i < start_point:\n",
    "            pass\n",
    "        else:\n",
    "            request.urlretrieve(url, fileName)\n",
    "            time.sleep(1 + 2 * random())\n",
    "            print(fileName + ' downloaded!')\n",
    "    except Exception as e:\n",
    "        time.sleep(2 + random())\n",
    "        print(e)\n",
    "        jpgDownload(url, fileName)"
   ]
  },
  {
   "cell_type": "code",
   "execution_count": 54,
   "metadata": {},
   "outputs": [
    {
     "name": "stdout",
     "output_type": "stream",
     "text": [
      "./wqbook/200.jfif downloaded!\n",
      "./wqbook/201.jfif downloaded!\n",
      "./wqbook/202.jfif downloaded!\n",
      "./wqbook/203.jfif downloaded!\n",
      "./wqbook/204.jfif downloaded!\n",
      "./wqbook/205.jfif downloaded!\n",
      "./wqbook/206.jfif downloaded!\n",
      "./wqbook/207.jfif downloaded!\n",
      "./wqbook/208.jfif downloaded!\n",
      "./wqbook/209.jfif downloaded!\n",
      "./wqbook/210.jfif downloaded!\n",
      "./wqbook/211.jfif downloaded!\n",
      "./wqbook/212.jfif downloaded!\n",
      "./wqbook/213.jfif downloaded!\n",
      "./wqbook/214.jfif downloaded!\n",
      "./wqbook/215.jfif downloaded!\n",
      "./wqbook/216.jfif downloaded!\n",
      "./wqbook/217.jfif downloaded!\n",
      "./wqbook/218.jfif downloaded!\n",
      "./wqbook/219.jfif downloaded!\n",
      "./wqbook/220.jfif downloaded!\n",
      "./wqbook/221.jfif downloaded!\n",
      "./wqbook/222.jfif downloaded!\n",
      "./wqbook/223.jfif downloaded!\n",
      "./wqbook/224.jfif downloaded!\n",
      "./wqbook/225.jfif downloaded!\n",
      "./wqbook/226.jfif downloaded!\n",
      "./wqbook/227.jfif downloaded!\n",
      "./wqbook/228.jfif downloaded!\n",
      "./wqbook/229.jfif downloaded!\n",
      "./wqbook/230.jfif downloaded!\n",
      "./wqbook/231.jfif downloaded!\n",
      "./wqbook/232.jfif downloaded!\n",
      "./wqbook/233.jfif downloaded!\n",
      "./wqbook/234.jfif downloaded!\n",
      "./wqbook/235.jfif downloaded!\n",
      "./wqbook/236.jfif downloaded!\n",
      "./wqbook/237.jfif downloaded!\n",
      "./wqbook/238.jfif downloaded!\n",
      "./wqbook/239.jfif downloaded!\n",
      "./wqbook/240.jfif downloaded!\n",
      "./wqbook/241.jfif downloaded!\n",
      "./wqbook/242.jfif downloaded!\n",
      "./wqbook/243.jfif downloaded!\n",
      "./wqbook/244.jfif downloaded!\n",
      "./wqbook/245.jfif downloaded!\n",
      "./wqbook/246.jfif downloaded!\n",
      "./wqbook/247.jfif downloaded!\n",
      "./wqbook/248.jfif downloaded!\n",
      "./wqbook/249.jfif downloaded!\n",
      "./wqbook/250.jfif downloaded!\n",
      "./wqbook/251.jfif downloaded!\n",
      "./wqbook/252.jfif downloaded!\n",
      "./wqbook/253.jfif downloaded!\n",
      "./wqbook/254.jfif downloaded!\n",
      "./wqbook/255.jfif downloaded!\n",
      "./wqbook/256.jfif downloaded!\n",
      "./wqbook/257.jfif downloaded!\n",
      "./wqbook/258.jfif downloaded!\n",
      "./wqbook/259.jfif downloaded!\n",
      "./wqbook/260.jfif downloaded!\n",
      "./wqbook/261.jfif downloaded!\n",
      "./wqbook/262.jfif downloaded!\n",
      "./wqbook/263.jfif downloaded!\n",
      "./wqbook/264.jfif downloaded!\n",
      "./wqbook/265.jfif downloaded!\n",
      "./wqbook/266.jfif downloaded!\n",
      "./wqbook/267.jfif downloaded!\n",
      "./wqbook/268.jfif downloaded!\n",
      "./wqbook/269.jfif downloaded!\n",
      "./wqbook/270.jfif downloaded!\n",
      "./wqbook/271.jfif downloaded!\n",
      "./wqbook/272.jfif downloaded!\n",
      "./wqbook/273.jfif downloaded!\n",
      "./wqbook/274.jfif downloaded!\n",
      "./wqbook/275.jfif downloaded!\n",
      "./wqbook/276.jfif downloaded!\n",
      "./wqbook/277.jfif downloaded!\n",
      "./wqbook/278.jfif downloaded!\n",
      "./wqbook/279.jfif downloaded!\n",
      "./wqbook/280.jfif downloaded!\n",
      "./wqbook/281.jfif downloaded!\n",
      "./wqbook/282.jfif downloaded!\n",
      "./wqbook/283.jfif downloaded!\n",
      "./wqbook/284.jfif downloaded!\n",
      "./wqbook/285.jfif downloaded!\n",
      "./wqbook/286.jfif downloaded!\n",
      "./wqbook/287.jfif downloaded!\n",
      "./wqbook/288.jfif downloaded!\n",
      "./wqbook/289.jfif downloaded!\n",
      "./wqbook/290.jfif downloaded!\n",
      "./wqbook/291.jfif downloaded!\n",
      "./wqbook/292.jfif downloaded!\n",
      "./wqbook/293.jfif downloaded!\n",
      "./wqbook/294.jfif downloaded!\n",
      "./wqbook/295.jfif downloaded!\n",
      "./wqbook/296.jfif downloaded!\n",
      "./wqbook/297.jfif downloaded!\n",
      "./wqbook/298.jfif downloaded!\n",
      "./wqbook/299.jfif downloaded!\n",
      "./wqbook/300.jfif downloaded!\n",
      "./wqbook/301.jfif downloaded!\n",
      "./wqbook/302.jfif downloaded!\n",
      "./wqbook/303.jfif downloaded!\n",
      "./wqbook/304.jfif downloaded!\n",
      "./wqbook/305.jfif downloaded!\n",
      "./wqbook/306.jfif downloaded!\n",
      "./wqbook/307.jfif downloaded!\n",
      "./wqbook/308.jfif downloaded!\n",
      "./wqbook/309.jfif downloaded!\n",
      "./wqbook/310.jfif downloaded!\n",
      "./wqbook/311.jfif downloaded!\n",
      "./wqbook/312.jfif downloaded!\n",
      "./wqbook/313.jfif downloaded!\n",
      "./wqbook/314.jfif downloaded!\n",
      "./wqbook/315.jfif downloaded!\n",
      "./wqbook/316.jfif downloaded!\n"
     ]
    }
   ],
   "source": [
    "import os\n",
    "directory = \"./wqbook\"\n",
    "if not os.path.exists(directory):\n",
    "    os.makedirs(directory)\n",
    "for i in range(len(urlList)):\n",
    "    url = urlList[i]\n",
    "    fileName = directory + '/' + str(i) + '.jfif' \n",
    "#     request.urlretrieve(url,fileName)\n",
    "    jpgDownload(url, fileName, i)"
   ]
  }
 ],
 "metadata": {
  "kernelspec": {
   "display_name": "Python 3",
   "language": "python",
   "name": "python3"
  }
 },
 "nbformat": 4,
 "nbformat_minor": 2
}
